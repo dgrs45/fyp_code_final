{
  "cells": [
    {
      "cell_type": "code",
      "execution_count": null,
      "metadata": {
        "colab": {
          "base_uri": "https://localhost:8080/"
        },
        "id": "vnTkax_9TaXd",
        "outputId": "23506b44-4dcd-4227-9496-4eec3a7d0b27"
      },
      "outputs": [
        {
          "output_type": "stream",
          "name": "stdout",
          "text": [
            "Requirement already satisfied: pycocotools in /usr/local/lib/python3.10/dist-packages (2.0.7)\n",
            "Requirement already satisfied: matplotlib>=2.1.0 in /usr/local/lib/python3.10/dist-packages (from pycocotools) (3.7.1)\n",
            "Requirement already satisfied: numpy in /usr/local/lib/python3.10/dist-packages (from pycocotools) (1.23.5)\n",
            "Requirement already satisfied: contourpy>=1.0.1 in /usr/local/lib/python3.10/dist-packages (from matplotlib>=2.1.0->pycocotools) (1.1.1)\n",
            "Requirement already satisfied: cycler>=0.10 in /usr/local/lib/python3.10/dist-packages (from matplotlib>=2.1.0->pycocotools) (0.12.1)\n",
            "Requirement already satisfied: fonttools>=4.22.0 in /usr/local/lib/python3.10/dist-packages (from matplotlib>=2.1.0->pycocotools) (4.43.1)\n",
            "Requirement already satisfied: kiwisolver>=1.0.1 in /usr/local/lib/python3.10/dist-packages (from matplotlib>=2.1.0->pycocotools) (1.4.5)\n",
            "Requirement already satisfied: packaging>=20.0 in /usr/local/lib/python3.10/dist-packages (from matplotlib>=2.1.0->pycocotools) (23.2)\n",
            "Requirement already satisfied: pillow>=6.2.0 in /usr/local/lib/python3.10/dist-packages (from matplotlib>=2.1.0->pycocotools) (9.4.0)\n",
            "Requirement already satisfied: pyparsing>=2.3.1 in /usr/local/lib/python3.10/dist-packages (from matplotlib>=2.1.0->pycocotools) (3.1.1)\n",
            "Requirement already satisfied: python-dateutil>=2.7 in /usr/local/lib/python3.10/dist-packages (from matplotlib>=2.1.0->pycocotools) (2.8.2)\n",
            "Requirement already satisfied: six>=1.5 in /usr/local/lib/python3.10/dist-packages (from python-dateutil>=2.7->matplotlib>=2.1.0->pycocotools) (1.16.0)\n"
          ]
        }
      ],
      "source": [
        "!pip install pycocotools"
      ]
    },
    {
      "cell_type": "code",
      "execution_count": null,
      "metadata": {
        "id": "egjOJyIOUDoG"
      },
      "outputs": [],
      "source": [
        "import os\n",
        "from pycocotools.coco import COCO\n",
        "import json"
      ]
    },
    {
      "cell_type": "code",
      "source": [
        "import os\n",
        "import json\n",
        "from pycocotools.coco import COCO\n",
        "from urllib.request import urlopen\n",
        "from PIL import Image\n",
        "import shutil"
      ],
      "metadata": {
        "id": "hSTemfWjUpf1"
      },
      "execution_count": null,
      "outputs": []
    },
    {
      "cell_type": "code",
      "execution_count": null,
      "metadata": {
        "id": "_rl0kGu0UE31"
      },
      "outputs": [],
      "source": [
        "desired_classes = [\n",
        "    'banana',\n",
        "    'bench',\n",
        "    'bicycle',\n",
        "    'bird',\n",
        "    'bus',\n",
        "    'car',\n",
        "    'cat',\n",
        "    'cow',\n",
        "    'dog',\n",
        "    'elephant',\n",
        "    'fire hydrant',\n",
        "    'horse',\n",
        "    'person',\n",
        "    'potted plant',\n",
        "    'skateboard',\n",
        "    'sports ball',\n",
        "    'stop sign',\n",
        "    'traffic light',\n",
        "    'train',\n",
        "    'truck',\n",
        "    'umbrella'\n",
        "]\n"
      ]
    },
    {
      "cell_type": "code",
      "execution_count": null,
      "metadata": {
        "colab": {
          "base_uri": "https://localhost:8080/"
        },
        "id": "dWjlCB9JXdx_",
        "outputId": "35c6a0dc-fb07-4e11-a8bd-457d4630aafc"
      },
      "outputs": [
        {
          "output_type": "stream",
          "name": "stdout",
          "text": [
            "--2023-10-16 15:31:28--  http://images.cocodataset.org/zips/train2017.zip\n",
            "Resolving images.cocodataset.org (images.cocodataset.org)... 54.231.200.225, 52.217.235.97, 54.231.224.1, ...\n",
            "Connecting to images.cocodataset.org (images.cocodataset.org)|54.231.200.225|:80... connected.\n",
            "HTTP request sent, awaiting response... 200 OK\n",
            "Length: 19336861798 (18G) [application/zip]\n",
            "Saving to: ‘train2017.zip’\n",
            "\n",
            "train2017.zip       100%[===================>]  18.01G  91.2MB/s    in 4m 20s  \n",
            "\n",
            "2023-10-16 15:35:48 (71.0 MB/s) - ‘train2017.zip’ saved [19336861798/19336861798]\n",
            "\n"
          ]
        }
      ],
      "source": [
        "!wget http://images.cocodataset.org/zips/train2017.zip"
      ]
    },
    {
      "cell_type": "code",
      "execution_count": null,
      "metadata": {
        "colab": {
          "base_uri": "https://localhost:8080/"
        },
        "id": "4BNyl9oXYTyE",
        "outputId": "0cba5659-495f-41dc-ab84-c988bc6c3f76"
      },
      "outputs": [
        {
          "output_type": "stream",
          "name": "stdout",
          "text": [
            "--2023-10-16 15:35:48--  http://images.cocodataset.org/zips/val2017.zip\n",
            "Resolving images.cocodataset.org (images.cocodataset.org)... 52.216.37.225, 54.231.172.81, 52.217.77.156, ...\n",
            "Connecting to images.cocodataset.org (images.cocodataset.org)|52.216.37.225|:80... connected.\n",
            "HTTP request sent, awaiting response... 200 OK\n",
            "Length: 815585330 (778M) [application/zip]\n",
            "Saving to: ‘val2017.zip’\n",
            "\n",
            "val2017.zip         100%[===================>] 777.80M  78.6MB/s    in 10s     \n",
            "\n",
            "2023-10-16 15:35:58 (76.2 MB/s) - ‘val2017.zip’ saved [815585330/815585330]\n",
            "\n"
          ]
        }
      ],
      "source": [
        "!wget http://images.cocodataset.org/zips/val2017.zip"
      ]
    },
    {
      "cell_type": "code",
      "execution_count": null,
      "metadata": {
        "colab": {
          "base_uri": "https://localhost:8080/"
        },
        "id": "uGBaBilpXmBU",
        "outputId": "9a21676d-99ca-4cb7-8384-db556e1322e1"
      },
      "outputs": [
        {
          "output_type": "stream",
          "name": "stdout",
          "text": [
            "--2023-10-16 15:35:58--  http://images.cocodataset.org/annotations/annotations_trainval2017.zip\n",
            "Resolving images.cocodataset.org (images.cocodataset.org)... 52.216.32.81, 54.231.140.113, 54.231.201.193, ...\n",
            "Connecting to images.cocodataset.org (images.cocodataset.org)|52.216.32.81|:80... connected.\n",
            "HTTP request sent, awaiting response... 200 OK\n",
            "Length: 252907541 (241M) [application/zip]\n",
            "Saving to: ‘annotations_trainval2017.zip’\n",
            "\n",
            "annotations_trainva 100%[===================>] 241.19M  75.0MB/s    in 3.2s    \n",
            "\n",
            "2023-10-16 15:36:02 (75.0 MB/s) - ‘annotations_trainval2017.zip’ saved [252907541/252907541]\n",
            "\n"
          ]
        }
      ],
      "source": [
        "!wget http://images.cocodataset.org/annotations/annotations_trainval2017.zip"
      ]
    },
    {
      "cell_type": "code",
      "execution_count": null,
      "metadata": {
        "id": "RGajhnNyYwUk"
      },
      "outputs": [],
      "source": [
        "!unzip train2017.zip\n",
        "!unzip val2017.zip\n",
        "!unzip annotations_trainval2017.zip"
      ]
    },
    {
      "cell_type": "code",
      "execution_count": null,
      "metadata": {
        "colab": {
          "base_uri": "https://localhost:8080/"
        },
        "id": "7Sgb-a1bXSu-",
        "outputId": "9f97e2c2-3a4d-498e-a576-da1344071a19"
      },
      "outputs": [
        {
          "output_type": "stream",
          "name": "stdout",
          "text": [
            "loading annotations into memory...\n",
            "Done (t=14.65s)\n",
            "creating index...\n",
            "index created!\n"
          ]
        }
      ],
      "source": [
        "desired_classes = [\n",
        "    'banana', 'bench', 'bicycle', 'bird', 'bus', 'car', 'cat', 'cow', 'dog',\n",
        "    'elephant', 'fire hydrant', 'horse', 'person', 'potted plant', 'skateboard',\n",
        "    'sports ball', 'stop sign', 'traffic light', 'train', 'truck', 'umbrella'\n",
        "]\n",
        "\n",
        "dataDir = '/content/dataDir'\n",
        "dataType = 'train2017'\n",
        "annFile = f'{dataDir}/annotations/instances_{dataType}.json'\n",
        "\n",
        "coco = COCO(annFile)\n",
        "\n",
        "cat_id_to_name = {cat['id']: cat['name'] for cat in coco.dataset['categories']}\n",
        "\n",
        "filtered_images_folder = '/content/Images'\n",
        "os.makedirs(filtered_images_folder, exist_ok=True)\n",
        "\n",
        "filtered_image_ids = set()\n",
        "filtered_annotations = []\n",
        "desired_num_images = 10000\n",
        "num_collected_images = 0\n",
        "\n",
        "for cat_name in desired_classes:\n",
        "    cat_id = next(cat_id for cat_id, cat_name_in_coco in cat_id_to_name.items() if cat_name_in_coco == cat_name)\n",
        "    ann_ids = coco.getAnnIds(catIds=cat_id)\n",
        "    filtered_annotations.extend(coco.loadAnns(ann_ids))\n",
        "    filtered_image_ids.update(set(ann['image_id'] for ann in filtered_annotations))\n",
        "\n",
        "    num_collected_images = len(filtered_image_ids)\n",
        "    if num_collected_images >= desired_num_images:\n",
        "        break\n",
        "\n",
        "for image_id in filtered_image_ids:\n",
        "    img_info = coco.loadImgs(image_id)[0]\n",
        "    img_url = img_info['coco_url']\n",
        "    img_name = os.path.basename(img_url)\n",
        "    img_path = os.path.join(filtered_images_folder, img_name)\n",
        "\n",
        "    with urlopen(img_url) as response, open(img_path, 'wb') as out_file:\n",
        "        shutil.copyfileobj(response, out_file)\n",
        "\n",
        "\n",
        "filtered_annotations_path = '/content/filtered_annotations.json'\n",
        "with open(filtered_annotations_path, 'w') as annotations_file:\n",
        "    json.dump(filtered_annotations, annotations_file)\n"
      ]
    },
    {
      "cell_type": "code",
      "source": [
        "# prompt: UPLOAD TO DRIVE\n",
        "\n",
        "!zip -r -q /content/Images.zip /content/Images\n",
        "!gdrive upload /content/Images.zip\n"
      ],
      "metadata": {
        "colab": {
          "base_uri": "https://localhost:8080/"
        },
        "id": "LbfDiA5VJrUk",
        "outputId": "92460886-db14-49b8-b488-4a0ece8eef2b"
      },
      "execution_count": null,
      "outputs": [
        {
          "output_type": "stream",
          "name": "stdout",
          "text": [
            "/bin/bash: line 1: gdrive: command not found\n"
          ]
        }
      ]
    },
    {
      "cell_type": "code",
      "source": [
        "from google.colab import drive\n",
        "drive.mount('/content/drive')"
      ],
      "metadata": {
        "colab": {
          "base_uri": "https://localhost:8080/"
        },
        "id": "a3QUztnbTSIB",
        "outputId": "2ace7760-a6a8-4c43-8203-92a14487c1fb"
      },
      "execution_count": null,
      "outputs": [
        {
          "output_type": "stream",
          "name": "stdout",
          "text": [
            "Mounted at /content/drive\n"
          ]
        }
      ]
    },
    {
      "cell_type": "code",
      "source": [
        "shutil.copy(\"/content/filtered_annotations.json\",\"/content/drive/MyDrive/DATASET_FINAL_ANNOTATIONS+IMAGES\")\n"
      ],
      "metadata": {
        "colab": {
          "base_uri": "https://localhost:8080/",
          "height": 35
        },
        "id": "4vX_WkNvUWrj",
        "outputId": "a9ad9e02-8db7-4370-caf1-7c59d7cb471c"
      },
      "execution_count": null,
      "outputs": [
        {
          "output_type": "execute_result",
          "data": {
            "text/plain": [
              "'/content/drive/MyDrive/DATASET_FINAL_ANNOTATIONS+IMAGES/filtered_annotations.json'"
            ],
            "application/vnd.google.colaboratory.intrinsic+json": {
              "type": "string"
            }
          },
          "metadata": {},
          "execution_count": 15
        }
      ]
    },
    {
      "cell_type": "code",
      "source": [
        "shutil.copy(\"/content/Images.zip\",\"/content/drive/MyDrive/DATASET_FINAL_ANNOTATIONS+IMAGES\")\n"
      ],
      "metadata": {
        "colab": {
          "base_uri": "https://localhost:8080/",
          "height": 35
        },
        "id": "xGafaWGZU-Qb",
        "outputId": "6c93de62-47a7-4680-e75e-2621bc09ed35"
      },
      "execution_count": null,
      "outputs": [
        {
          "output_type": "execute_result",
          "data": {
            "text/plain": [
              "'/content/drive/MyDrive/DATASET_FINAL_ANNOTATIONS+IMAGES/Images.zip'"
            ],
            "application/vnd.google.colaboratory.intrinsic+json": {
              "type": "string"
            }
          },
          "metadata": {},
          "execution_count": 16
        }
      ]
    },
    {
      "cell_type": "code",
      "source": [],
      "metadata": {
        "id": "Uwwsq4DEVH0w"
      },
      "execution_count": null,
      "outputs": []
    }
  ],
  "metadata": {
    "accelerator": "GPU",
    "colab": {
      "machine_shape": "hm",
      "provenance": []
    },
    "kernelspec": {
      "display_name": "Python 3",
      "name": "python3"
    },
    "language_info": {
      "name": "python"
    }
  },
  "nbformat": 4,
  "nbformat_minor": 0
}