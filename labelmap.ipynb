{
  "nbformat": 4,
  "nbformat_minor": 0,
  "metadata": {
    "colab": {
      "provenance": [],
      "collapsed_sections": [
        "gZO4-wDWwdKg"
      ]
    },
    "kernelspec": {
      "name": "python3",
      "display_name": "Python 3"
    },
    "language_info": {
      "name": "python"
    }
  },
  "cells": [
    {
      "cell_type": "markdown",
      "source": [
        "#1"
      ],
      "metadata": {
        "id": "gZO4-wDWwdKg"
      }
    },
    {
      "cell_type": "markdown",
      "source": [],
      "metadata": {
        "id": "i-y0Gks0wc3Z"
      }
    },
    {
      "cell_type": "code",
      "execution_count": null,
      "metadata": {
        "id": "hN-QR77cst9R"
      },
      "outputs": [],
      "source": [
        "from pycocotools.coco import COCO as coco\n",
        "import requests\n",
        "import os\n",
        "import sys\n",
        "import threading\n"
      ]
    },
    {
      "cell_type": "code",
      "source": [
        "def makeDirectory(dirName):\n",
        "  try:\n",
        "      os.mkdir(dirName)\n",
        "      print(f\"\\nMade {dirName} Directory.\\n\")\n",
        "  except:\n",
        "      pass\n"
      ],
      "metadata": {
        "id": "x3gtuzOms1bP"
      },
      "execution_count": null,
      "outputs": []
    },
    {
      "cell_type": "code",
      "source": [
        "def getImagesFromClassName(className):\n",
        "    makeDirectory(f'downloaded_images/{className}')\n",
        "    catIds = coco.getCatIds(catNms=[className])\n",
        "    imgIds = coco.getImgIds(catIds=catIds )\n",
        "    images = coco.loadImgs(imgIds)\n",
        "\n",
        "    print(f\"Total Images: {len(images)} for class '{className}'\")\n",
        "\n",
        "    for im in images:\n",
        "        image_file_name = im['file_name']\n",
        "        label_file_name = im['file_name'].split('.')[0] + '.txt'\n",
        "\n",
        "        fileExists = os.path.exists(f'downloaded_images/{className}/{image_file_name}')\n",
        "        if(not fileExists):\n",
        "            img_data = requests.get(im['coco_url']).content\n",
        "            annIds = coco.getAnnIds(imgIds=im['id'], catIds=catIds, iscrowd=None)\n",
        "            anns = coco.loadAnns(annIds)\n",
        "            print(f\"{className}. Downloading - {image_file_name}\")\n",
        "            for i in range(len(anns)):\n",
        "                # Yolo Format: center-x center-y width height\n",
        "                # All values are relative to the image.\n",
        "                topLeftX = anns[i]['bbox'][0] / im['width']\n",
        "                topLeftY = anns[i]['bbox'][1] / im['height']\n",
        "                width = anns[i]['bbox'][2] / im['width']\n",
        "                height = anns[i]['bbox'][3] / im['height']\n",
        "\n",
        "                s = \"0 \" + str((topLeftX + (topLeftX + width)) / 2) + \" \" + \\\n",
        "                str((topLeftY + (topLeftY + height)) / 2) + \" \" + \\\n",
        "                str(width) + \" \" + \\\n",
        "                str(height)\n",
        "\n",
        "                if(i < len(anns) - 1):\n",
        "                    s += '\\n'\n",
        "\n",
        "            with open(f'downloaded_images/{className}/{image_file_name}', 'wb') as image_handler:\n",
        "                image_handler.write(img_data)\n",
        "            with open(f'downloaded_images/{className}/{label_file_name}', 'w') as label_handler:\n",
        "                label_handler.write(s)\n",
        "        else:\n",
        "           print(f\"{className}. {image_file_name} - Already Downloaded.\")"
      ],
      "metadata": {
        "id": "9C_IbDhps4GM"
      },
      "execution_count": null,
      "outputs": []
    },
    {
      "cell_type": "code",
      "source": [],
      "metadata": {
        "id": "S6loXyaVtBiF"
      },
      "execution_count": null,
      "outputs": []
    },
    {
      "cell_type": "markdown",
      "source": [
        "#2"
      ],
      "metadata": {
        "id": "Bsj7QW7RwfFz"
      }
    },
    {
      "cell_type": "code",
      "source": [
        "!git clone https://github.com/KaranJagtiani/YOLO-Coco-Dataset-Custom-Classes-Extractor"
      ],
      "metadata": {
        "colab": {
          "base_uri": "https://localhost:8080/"
        },
        "id": "W6i41B1PwqiA",
        "outputId": "f0efcb2c-b4f0-49b2-e95c-c93eaec2d96f"
      },
      "execution_count": null,
      "outputs": [
        {
          "output_type": "stream",
          "name": "stdout",
          "text": [
            "Cloning into 'YOLO-Coco-Dataset-Custom-Classes-Extractor'...\n",
            "remote: Enumerating objects: 22, done.\u001b[K\n",
            "remote: Counting objects:   4% (1/22)\u001b[K\rremote: Counting objects:   9% (2/22)\u001b[K\rremote: Counting objects:  13% (3/22)\u001b[K\rremote: Counting objects:  18% (4/22)\u001b[K\rremote: Counting objects:  22% (5/22)\u001b[K\rremote: Counting objects:  27% (6/22)\u001b[K\rremote: Counting objects:  31% (7/22)\u001b[K\rremote: Counting objects:  36% (8/22)\u001b[K\rremote: Counting objects:  40% (9/22)\u001b[K\rremote: Counting objects:  45% (10/22)\u001b[K\rremote: Counting objects:  50% (11/22)\u001b[K\rremote: Counting objects:  54% (12/22)\u001b[K\rremote: Counting objects:  59% (13/22)\u001b[K\rremote: Counting objects:  63% (14/22)\u001b[K\rremote: Counting objects:  68% (15/22)\u001b[K\rremote: Counting objects:  72% (16/22)\u001b[K\rremote: Counting objects:  77% (17/22)\u001b[K\rremote: Counting objects:  81% (18/22)\u001b[K\rremote: Counting objects:  86% (19/22)\u001b[K\rremote: Counting objects:  90% (20/22)\u001b[K\rremote: Counting objects:  95% (21/22)\u001b[K\rremote: Counting objects: 100% (22/22)\u001b[K\rremote: Counting objects: 100% (22/22), done.\u001b[K\n",
            "remote: Compressing objects:   5% (1/19)\u001b[K\rremote: Compressing objects:  10% (2/19)\u001b[K\rremote: Compressing objects:  15% (3/19)\u001b[K\rremote: Compressing objects:  21% (4/19)\u001b[K\rremote: Compressing objects:  26% (5/19)\u001b[K\rremote: Compressing objects:  31% (6/19)\u001b[K\rremote: Compressing objects:  36% (7/19)\u001b[K\rremote: Compressing objects:  42% (8/19)\u001b[K\rremote: Compressing objects:  47% (9/19)\u001b[K\rremote: Compressing objects:  52% (10/19)\u001b[K\rremote: Compressing objects:  57% (11/19)\u001b[K\rremote: Compressing objects:  63% (12/19)\u001b[K\rremote: Compressing objects:  68% (13/19)\u001b[K\rremote: Compressing objects:  73% (14/19)\u001b[K\rremote: Compressing objects:  78% (15/19)\u001b[K\rremote: Compressing objects:  84% (16/19)\u001b[K\rremote: Compressing objects:  89% (17/19)\u001b[K\rremote: Compressing objects:  94% (18/19)\u001b[K\rremote: Compressing objects: 100% (19/19)\u001b[K\rremote: Compressing objects: 100% (19/19), done.\u001b[K\n",
            "remote: Total 22 (delta 4), reused 9 (delta 1), pack-reused 0\u001b[K\n",
            "Receiving objects:   4% (1/22)\rReceiving objects:   9% (2/22)\rReceiving objects:  13% (3/22)\rReceiving objects:  18% (4/22)\rReceiving objects:  22% (5/22)\rReceiving objects:  27% (6/22)\rReceiving objects:  31% (7/22)\rReceiving objects:  36% (8/22)\rReceiving objects:  40% (9/22)\rReceiving objects:  45% (10/22)\rReceiving objects:  50% (11/22)\rReceiving objects:  54% (12/22)\rReceiving objects:  59% (13/22)\rReceiving objects:  63% (14/22)\rReceiving objects:  68% (15/22)\rReceiving objects:  72% (16/22)\rReceiving objects:  77% (17/22)\rReceiving objects:  81% (18/22)\rReceiving objects:  86% (19/22)\rReceiving objects:  90% (20/22)\rReceiving objects:  95% (21/22)\rReceiving objects: 100% (22/22)\rReceiving objects: 100% (22/22), 6.11 KiB | 6.11 MiB/s, done.\n",
            "Resolving deltas:   0% (0/4)\rResolving deltas:  25% (1/4)\rResolving deltas:  50% (2/4)\rResolving deltas:  75% (3/4)\rResolving deltas: 100% (4/4)\rResolving deltas: 100% (4/4), done.\n"
          ]
        }
      ]
    },
    {
      "cell_type": "code",
      "source": [
        "!wget http://images.cocodataset.org/annotations/annotations_trainval2017.zip"
      ],
      "metadata": {
        "colab": {
          "base_uri": "https://localhost:8080/"
        },
        "id": "mb33xEKNxNgl",
        "outputId": "92cfb1d5-1b80-460e-bcda-d79a4227d44d"
      },
      "execution_count": null,
      "outputs": [
        {
          "output_type": "stream",
          "name": "stdout",
          "text": [
            "--2023-10-08 14:51:26--  http://images.cocodataset.org/annotations/annotations_trainval2017.zip\n",
            "Resolving images.cocodataset.org (images.cocodataset.org)... 3.5.25.242, 3.5.20.112, 52.217.135.49, ...\n",
            "Connecting to images.cocodataset.org (images.cocodataset.org)|3.5.25.242|:80... connected.\n",
            "HTTP request sent, awaiting response... 200 OK\n",
            "Length: 252907541 (241M) [application/zip]\n",
            "Saving to: ‘annotations_trainval2017.zip’\n",
            "\n",
            "annotations_trainva 100%[===================>] 241.19M  92.7MB/s    in 2.6s    \n",
            "\n",
            "2023-10-08 14:51:28 (92.7 MB/s) - ‘annotations_trainval2017.zip’ saved [252907541/252907541]\n",
            "\n"
          ]
        }
      ]
    },
    {
      "cell_type": "code",
      "source": [],
      "metadata": {
        "id": "hVlpMpNl2k66"
      },
      "execution_count": null,
      "outputs": []
    },
    {
      "cell_type": "code",
      "source": [
        "from pycocotools.coco import COCO\n",
        "import os\n",
        "import shutil\n",
        "import json\n",
        "annotation_file = 'path/to/annotations/instances_train2017.json'\n",
        "image_dir = 'path/to/images/train2017/'\n",
        "coco = COCO(annotation_file)\n",
        "included_categories = ['person', 'dog', 'car']\n",
        "included_category_ids = coco.getCatIds(catNms=included_categories)\n",
        "image_ids = []\n",
        "for cat_id in included_category_ids:\n",
        "    image_ids.extend(coco.getImgIds(catIds=[cat_id]))\n",
        "image_ids = list(set(image_ids))\n",
        "subset_annotations = coco.loadImgs(image_ids)\n",
        "output_image_dir = 'path/to/output/images/'\n",
        "os.makedirs(output_image_dir, exist_ok=True)\n",
        "for img_info in subset_annotations:\n",
        "    img_file_name = img_info['file_name']\n",
        "    img_path = os.path.join(image_dir, img_file_name)\n",
        "    shutil.copy(img_path, output_image_dir)\n",
        "subset_annotations_json = coco.loadAnns(coco.getAnnIds(imgIds=image_ids))\n",
        "output_annotations_file = 'path/to/output/annotations.json'\n",
        "with open(output_annotations_file, 'w') as outfile:\n",
        "    json.dump(subset_annotations_json, outfile)"
      ],
      "metadata": {
        "id": "IGVwNCCCxrSw"
      },
      "execution_count": null,
      "outputs": []
    },
    {
      "cell_type": "code",
      "source": [],
      "metadata": {
        "id": "tof27QJH2S6L"
      },
      "execution_count": null,
      "outputs": []
    }
  ]
}